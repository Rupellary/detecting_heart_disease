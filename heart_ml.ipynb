{
 "cells": [
  {
   "cell_type": "markdown",
   "metadata": {},
   "source": [
    "# Dectecting Heart Disease Machine Learning Project"
   ]
  },
  {
   "cell_type": "markdown",
   "metadata": {},
   "source": [
    "#### Citation:\n",
    "This project uses data from the UCI Machine Learning Repository\n",
    "\n",
    "\n",
    "Janosi,Andras, Steinbrunn,William, Pfisterer,Matthias, and Detrano,Robert. (1988). Heart Disease. UCI Machine Learning Repository. https://doi.org/10.24432/C52P4X."
   ]
  },
  {
   "cell_type": "markdown",
   "metadata": {},
   "source": [
    "### Imports"
   ]
  },
  {
   "cell_type": "code",
   "execution_count": 1,
   "metadata": {},
   "outputs": [],
   "source": [
    "# Importing Libraries\n",
    "\n",
    "# Custom Functions\n",
    "from heart_ml_utils import *\n",
    "\n",
    "# Data Exploration and Plotting\n",
    "import pandas as pd\n",
    "import matplotlib.pyplot as plt\n",
    "import seaborn as sns\n",
    "import numpy as np\n",
    "import math\n",
    "\n",
    "# Pipelining\n",
    "from sklearn.pipeline import make_pipeline\n",
    "from sklearn.compose import ColumnTransformer\n",
    "from sklearn.impute import SimpleImputer\n",
    "from sklearn.preprocessing import OneHotEncoder, OrdinalEncoder, StandardScaler, RobustScaler, MinMaxScaler\n",
    "from sklearn.model_selection import train_test_split, GridSearchCV\n",
    "\n",
    "# Modeling\n",
    "from sklearn.linear_model import LogisticRegression\n",
    "from sklearn.svm import SVC\n",
    "from sklearn.ensemble import RandomForestClassifier, GradientBoostingClassifier\n",
    "\n",
    "# Scoring\n",
    "from sklearn.metrics import confusion_matrix, roc_auc_score, roc_curve, precision_recall_curve, accuracy_score, precision_score, recall_score, f1_score, ConfusionMatrixDisplay"
   ]
  },
  {
   "cell_type": "code",
   "execution_count": 2,
   "metadata": {},
   "outputs": [],
   "source": [
    "feat_names = ['age', # (numerical)\n",
    "              'sex', # (binary)\n",
    "              'cp', # (categorical) [1-4] chest pain \n",
    "              'trestbps', # (numerical) resting blood pressure \n",
    "              'chol', # (numerical) serum cholestoral in mg/dl \n",
    "              'fbs', # (binary) fasting blood sugar > 120 mg/dl \n",
    "              'restecg', # (ordinal)(pre-encoded) [0-2] resting electrocardiographic results \n",
    "              'thalach', # (numerical) maximum heart rate acheived \n",
    "              'exang', # (binary) exercised induced angina \n",
    "              'oldpeak', # (numerical) ST depression induced by exercise relative to rest \n",
    "              'slope', # (ordinal)(pre-encoded) [1-3] slope of the peak exercise ST segment\n",
    "              'ca', # (numerical) number of major vessels colored by flourosopy\n",
    "              'thal', # (ordinal)(pre-encoded) \"3 = normal; 6 = fixed defect; 7 = reversable defect\"\n",
    "              'num'] # (categorical) [0-4] diagnosis \n",
    "heart_df = pd.read_csv('cleveland_heart_data', names = feat_names)"
   ]
  },
  {
   "cell_type": "markdown",
   "metadata": {},
   "source": [
    "## Data Cleaning and Feature Engineering"
   ]
  },
  {
   "cell_type": "code",
   "execution_count": 3,
   "metadata": {},
   "outputs": [
    {
     "name": "stdout",
     "output_type": "stream",
     "text": [
      "dropped 3.3% of data\n"
     ]
    }
   ],
   "source": [
    "# Drop observations with problematic values (see heart_ml_data_explor.ipynb)\n",
    "\n",
    "cleaned_df = heart_df\n",
    "\n",
    "# Create a dictionary of column-value pairs for flexible alteration\n",
    "drop_dict = {'restecg':1,\n",
    "             'ca':'?',\n",
    "             'thal':'?'\n",
    "}\n",
    "\n",
    "# Drop data according to dictionary\n",
    "for drop_col in list(drop_dict.keys()):\n",
    "    cleaned_df = drop_data(cleaned_df, drop_col, drop_dict[drop_col]) #using custom function (see heart_ml_utils.py)   \n",
    "\n",
    "print(f'dropped {round((heart_df.shape[0] - cleaned_df.shape[0])*100 / heart_df.shape[0],2)}% of data')"
   ]
  },
  {
   "cell_type": "code",
   "execution_count": 3,
   "metadata": {},
   "outputs": [],
   "source": [
    "# ALTERNATIVELY: Replace ?s with None to be imputed later\n",
    "\n",
    "cleaned_df = heart_df\n",
    "\n",
    "cleaned_df = string_to_Na(cleaned_df, '?') #using custom function (see heart_ml_utils.py)"
   ]
  },
  {
   "cell_type": "code",
   "execution_count": 4,
   "metadata": {},
   "outputs": [],
   "source": [
    "# Now that the ?s have been dealt with the columns must be converted from object to float\n",
    "\n",
    "# Create a dictionary of column-type pairs for flexible alteration\n",
    "dtype_dict = {'ca':'float',\n",
    "              'thal':'float'\n",
    "}\n",
    "\n",
    "# Convert columns into new data types according to dictionary\n",
    "for col in list(dtype_dict.keys()):\n",
    "    cleaned_df[col] = cleaned_df[col].astype(dtype_dict[col])"
   ]
  },
  {
   "cell_type": "code",
   "execution_count": 5,
   "metadata": {},
   "outputs": [],
   "source": [
    "# Rather than predicting specific diseases, this model will classify between diseased and healthy\n",
    "\n",
    "cleaned_df['num'] = 0\n",
    "cleaned_df.loc[cleaned_df['num']>0, 'num'] = 1\n",
    "# 0 means healthy, 1 means diseased"
   ]
  },
  {
   "cell_type": "code",
   "execution_count": 6,
   "metadata": {},
   "outputs": [],
   "source": [
    "# OPTIONAL: Consider using this binary version later (depending on the type of model)\n",
    "\n",
    "extra_feature_df = cleaned_df\n",
    "extra_feature_df['st_no_change'] = 0\n",
    "extra_feature_df.loc[extra_feature_df['oldpeak']>0, 'st_no_change'] = 1"
   ]
  },
  {
   "cell_type": "markdown",
   "metadata": {},
   "source": [
    "## Data Splitting"
   ]
  },
  {
   "cell_type": "code",
   "execution_count": 7,
   "metadata": {},
   "outputs": [],
   "source": [
    "# Separate predictor features (X) and target feature (y)\n",
    "\n",
    "X = cleaned_df # OPTIONAL: switch with extra_feature_df\n",
    "y = X.pop('num')"
   ]
  },
  {
   "cell_type": "code",
   "execution_count": 8,
   "metadata": {},
   "outputs": [],
   "source": [
    "# Seperate test data from training data\n",
    "\n",
    "X_train, X_test, y_train, y_test = train_test_split(X, y, test_size=0.2, random_state=42)"
   ]
  },
  {
   "cell_type": "markdown",
   "metadata": {},
   "source": [
    "## Preprocessing Pipeline"
   ]
  },
  {
   "cell_type": "code",
   "execution_count": 10,
   "metadata": {},
   "outputs": [],
   "source": [
    "# Seperate features by data type for preprocessing pipeline\n",
    "\n",
    "onehot_features = ['cp']"
   ]
  },
  {
   "cell_type": "code",
   "execution_count": 36,
   "metadata": {},
   "outputs": [],
   "source": [
    "# OPTIONAL: Identify ordinally pre-ecoded features to test onehot encoding instead\n",
    "\n",
    "ordinal_to_onehot = ['restecg', 'slope', 'thal']\n",
    "onehot_features += ordinal_to_onehot"
   ]
  },
  {
   "cell_type": "code",
   "execution_count": null,
   "metadata": {},
   "outputs": [],
   "source": [
    "# UNUSED: Create ordinal encoder\n",
    "#(potentially useful when switching to the 76 feature dataset or reusing code in another project)\n",
    "\n",
    "# Create dictionary of ordinal features and their ordered values\n",
    "ordinal_codes_dict = {'feature':['ordered','list','of','values'],\n",
    "                      'feature':['ordered','list','of','values']\n",
    "}\n",
    "\n",
    "# Get column indexes of ordinal features\n",
    "ordinal_ids = X.get_indexer(list(ordinal_codes_dict.keys()))\n",
    "\n",
    "# Create list of ordered lists, ordered by feature index\n",
    "ordinal_codes_list = []\n",
    "for id in ordinal_ids:\n",
    "    ordinal_codes_list.append(ordinal_codes_dict[X.columns[id]])\n",
    "\n",
    "# Create tuple to be used for ordinal encoder in a column transformer\n",
    "ordinal_transformer = (\"cat_ordinal\", \n",
    "                       OrdinalEncoder(categories=ordinal_codes_list), \n",
    "                       ordinal_ids)"
   ]
  },
  {
   "cell_type": "code",
   "execution_count": 11,
   "metadata": {},
   "outputs": [],
   "source": [
    "# Create categorical encoder\n",
    "\n",
    "cat_encoder = ColumnTransformer(transformers=[\n",
    "    #ordinal_transformer,\n",
    "    (\"cat_onehot\", \n",
    "     OneHotEncoder(drop='first', sparse_output=False, handle_unknown=\"ignore\"), \n",
    "     onehot_features)\n",
    "])"
   ]
  },
  {
   "cell_type": "code",
   "execution_count": 12,
   "metadata": {},
   "outputs": [],
   "source": [
    "# Create categorical pipeline\n",
    "\n",
    "cat_pipe = make_pipeline(SimpleImputer(strategy='most_frequent'), #can be varied with hyperparameter tuning\n",
    "                         cat_encoder)"
   ]
  },
  {
   "cell_type": "code",
   "execution_count": 13,
   "metadata": {},
   "outputs": [],
   "source": [
    "# Create numerical pipeline\n",
    "\n",
    "num_pipe = make_pipeline(SimpleImputer(strategy='mean')) #can be varied with hyperparameter tuning"
   ]
  },
  {
   "cell_type": "code",
   "execution_count": 14,
   "metadata": {},
   "outputs": [],
   "source": [
    "# Create full preprocessor with categorical and numerical columns\n",
    "\n",
    "cat_features = onehot_features #+ list(ordinal_codes_dict.keys())\n",
    "num_features = list(set(X.columns)-set(cat_features))\n",
    "\n",
    "preprocessor = ColumnTransformer(transformers=[\n",
    "    ('num_pipe', num_pipe, num_features),\n",
    "    ('cat_pipe', cat_pipe, cat_features)\n",
    "])"
   ]
  },
  {
   "cell_type": "code",
   "execution_count": 15,
   "metadata": {},
   "outputs": [
    {
     "data": {
      "text/html": [
       "<style>#sk-container-id-1 {color: black;background-color: white;}#sk-container-id-1 pre{padding: 0;}#sk-container-id-1 div.sk-toggleable {background-color: white;}#sk-container-id-1 label.sk-toggleable__label {cursor: pointer;display: block;width: 100%;margin-bottom: 0;padding: 0.3em;box-sizing: border-box;text-align: center;}#sk-container-id-1 label.sk-toggleable__label-arrow:before {content: \"▸\";float: left;margin-right: 0.25em;color: #696969;}#sk-container-id-1 label.sk-toggleable__label-arrow:hover:before {color: black;}#sk-container-id-1 div.sk-estimator:hover label.sk-toggleable__label-arrow:before {color: black;}#sk-container-id-1 div.sk-toggleable__content {max-height: 0;max-width: 0;overflow: hidden;text-align: left;background-color: #f0f8ff;}#sk-container-id-1 div.sk-toggleable__content pre {margin: 0.2em;color: black;border-radius: 0.25em;background-color: #f0f8ff;}#sk-container-id-1 input.sk-toggleable__control:checked~div.sk-toggleable__content {max-height: 200px;max-width: 100%;overflow: auto;}#sk-container-id-1 input.sk-toggleable__control:checked~label.sk-toggleable__label-arrow:before {content: \"▾\";}#sk-container-id-1 div.sk-estimator input.sk-toggleable__control:checked~label.sk-toggleable__label {background-color: #d4ebff;}#sk-container-id-1 div.sk-label input.sk-toggleable__control:checked~label.sk-toggleable__label {background-color: #d4ebff;}#sk-container-id-1 input.sk-hidden--visually {border: 0;clip: rect(1px 1px 1px 1px);clip: rect(1px, 1px, 1px, 1px);height: 1px;margin: -1px;overflow: hidden;padding: 0;position: absolute;width: 1px;}#sk-container-id-1 div.sk-estimator {font-family: monospace;background-color: #f0f8ff;border: 1px dotted black;border-radius: 0.25em;box-sizing: border-box;margin-bottom: 0.5em;}#sk-container-id-1 div.sk-estimator:hover {background-color: #d4ebff;}#sk-container-id-1 div.sk-parallel-item::after {content: \"\";width: 100%;border-bottom: 1px solid gray;flex-grow: 1;}#sk-container-id-1 div.sk-label:hover label.sk-toggleable__label {background-color: #d4ebff;}#sk-container-id-1 div.sk-serial::before {content: \"\";position: absolute;border-left: 1px solid gray;box-sizing: border-box;top: 0;bottom: 0;left: 50%;z-index: 0;}#sk-container-id-1 div.sk-serial {display: flex;flex-direction: column;align-items: center;background-color: white;padding-right: 0.2em;padding-left: 0.2em;position: relative;}#sk-container-id-1 div.sk-item {position: relative;z-index: 1;}#sk-container-id-1 div.sk-parallel {display: flex;align-items: stretch;justify-content: center;background-color: white;position: relative;}#sk-container-id-1 div.sk-item::before, #sk-container-id-1 div.sk-parallel-item::before {content: \"\";position: absolute;border-left: 1px solid gray;box-sizing: border-box;top: 0;bottom: 0;left: 50%;z-index: -1;}#sk-container-id-1 div.sk-parallel-item {display: flex;flex-direction: column;z-index: 1;position: relative;background-color: white;}#sk-container-id-1 div.sk-parallel-item:first-child::after {align-self: flex-end;width: 50%;}#sk-container-id-1 div.sk-parallel-item:last-child::after {align-self: flex-start;width: 50%;}#sk-container-id-1 div.sk-parallel-item:only-child::after {width: 0;}#sk-container-id-1 div.sk-dashed-wrapped {border: 1px dashed gray;margin: 0 0.4em 0.5em 0.4em;box-sizing: border-box;padding-bottom: 0.4em;background-color: white;}#sk-container-id-1 div.sk-label label {font-family: monospace;font-weight: bold;display: inline-block;line-height: 1.2em;}#sk-container-id-1 div.sk-label-container {text-align: center;}#sk-container-id-1 div.sk-container {/* jupyter's `normalize.less` sets `[hidden] { display: none; }` but bootstrap.min.css set `[hidden] { display: none !important; }` so we also need the `!important` here to be able to override the default hidden behavior on the sphinx rendered scikit-learn.org. See: https://github.com/scikit-learn/scikit-learn/issues/21755 */display: inline-block !important;position: relative;}#sk-container-id-1 div.sk-text-repr-fallback {display: none;}</style><div id=\"sk-container-id-1\" class=\"sk-top-container\"><div class=\"sk-text-repr-fallback\"><pre>ColumnTransformer(transformers=[(&#x27;num_pipe&#x27;,\n",
       "                                 Pipeline(steps=[(&#x27;simpleimputer&#x27;,\n",
       "                                                  SimpleImputer())]),\n",
       "                                 [&#x27;age&#x27;, &#x27;fbs&#x27;, &#x27;restecg&#x27;, &#x27;st_no_change&#x27;,\n",
       "                                  &#x27;sex&#x27;, &#x27;slope&#x27;, &#x27;ca&#x27;, &#x27;oldpeak&#x27;, &#x27;trestbps&#x27;,\n",
       "                                  &#x27;exang&#x27;, &#x27;thal&#x27;, &#x27;thalach&#x27;, &#x27;chol&#x27;]),\n",
       "                                (&#x27;cat_pipe&#x27;,\n",
       "                                 Pipeline(steps=[(&#x27;simpleimputer&#x27;,\n",
       "                                                  SimpleImputer(strategy=&#x27;most_frequent&#x27;)),\n",
       "                                                 (&#x27;columntransformer&#x27;,\n",
       "                                                  ColumnTransformer(transformers=[(&#x27;cat_onehot&#x27;,\n",
       "                                                                                   OneHotEncoder(drop=&#x27;first&#x27;,\n",
       "                                                                                                 handle_unknown=&#x27;ignore&#x27;,\n",
       "                                                                                                 sparse_output=False),\n",
       "                                                                                   [&#x27;cp&#x27;])]))]),\n",
       "                                 [&#x27;cp&#x27;])])</pre><b>In a Jupyter environment, please rerun this cell to show the HTML representation or trust the notebook. <br />On GitHub, the HTML representation is unable to render, please try loading this page with nbviewer.org.</b></div><div class=\"sk-container\" hidden><div class=\"sk-item sk-dashed-wrapped\"><div class=\"sk-label-container\"><div class=\"sk-label sk-toggleable\"><input class=\"sk-toggleable__control sk-hidden--visually\" id=\"sk-estimator-id-1\" type=\"checkbox\" ><label for=\"sk-estimator-id-1\" class=\"sk-toggleable__label sk-toggleable__label-arrow\">ColumnTransformer</label><div class=\"sk-toggleable__content\"><pre>ColumnTransformer(transformers=[(&#x27;num_pipe&#x27;,\n",
       "                                 Pipeline(steps=[(&#x27;simpleimputer&#x27;,\n",
       "                                                  SimpleImputer())]),\n",
       "                                 [&#x27;age&#x27;, &#x27;fbs&#x27;, &#x27;restecg&#x27;, &#x27;st_no_change&#x27;,\n",
       "                                  &#x27;sex&#x27;, &#x27;slope&#x27;, &#x27;ca&#x27;, &#x27;oldpeak&#x27;, &#x27;trestbps&#x27;,\n",
       "                                  &#x27;exang&#x27;, &#x27;thal&#x27;, &#x27;thalach&#x27;, &#x27;chol&#x27;]),\n",
       "                                (&#x27;cat_pipe&#x27;,\n",
       "                                 Pipeline(steps=[(&#x27;simpleimputer&#x27;,\n",
       "                                                  SimpleImputer(strategy=&#x27;most_frequent&#x27;)),\n",
       "                                                 (&#x27;columntransformer&#x27;,\n",
       "                                                  ColumnTransformer(transformers=[(&#x27;cat_onehot&#x27;,\n",
       "                                                                                   OneHotEncoder(drop=&#x27;first&#x27;,\n",
       "                                                                                                 handle_unknown=&#x27;ignore&#x27;,\n",
       "                                                                                                 sparse_output=False),\n",
       "                                                                                   [&#x27;cp&#x27;])]))]),\n",
       "                                 [&#x27;cp&#x27;])])</pre></div></div></div><div class=\"sk-parallel\"><div class=\"sk-parallel-item\"><div class=\"sk-item\"><div class=\"sk-label-container\"><div class=\"sk-label sk-toggleable\"><input class=\"sk-toggleable__control sk-hidden--visually\" id=\"sk-estimator-id-2\" type=\"checkbox\" ><label for=\"sk-estimator-id-2\" class=\"sk-toggleable__label sk-toggleable__label-arrow\">num_pipe</label><div class=\"sk-toggleable__content\"><pre>[&#x27;age&#x27;, &#x27;fbs&#x27;, &#x27;restecg&#x27;, &#x27;st_no_change&#x27;, &#x27;sex&#x27;, &#x27;slope&#x27;, &#x27;ca&#x27;, &#x27;oldpeak&#x27;, &#x27;trestbps&#x27;, &#x27;exang&#x27;, &#x27;thal&#x27;, &#x27;thalach&#x27;, &#x27;chol&#x27;]</pre></div></div></div><div class=\"sk-serial\"><div class=\"sk-item\"><div class=\"sk-serial\"><div class=\"sk-item\"><div class=\"sk-estimator sk-toggleable\"><input class=\"sk-toggleable__control sk-hidden--visually\" id=\"sk-estimator-id-3\" type=\"checkbox\" ><label for=\"sk-estimator-id-3\" class=\"sk-toggleable__label sk-toggleable__label-arrow\">SimpleImputer</label><div class=\"sk-toggleable__content\"><pre>SimpleImputer()</pre></div></div></div></div></div></div></div></div><div class=\"sk-parallel-item\"><div class=\"sk-item\"><div class=\"sk-label-container\"><div class=\"sk-label sk-toggleable\"><input class=\"sk-toggleable__control sk-hidden--visually\" id=\"sk-estimator-id-4\" type=\"checkbox\" ><label for=\"sk-estimator-id-4\" class=\"sk-toggleable__label sk-toggleable__label-arrow\">cat_pipe</label><div class=\"sk-toggleable__content\"><pre>[&#x27;cp&#x27;]</pre></div></div></div><div class=\"sk-serial\"><div class=\"sk-item\"><div class=\"sk-serial\"><div class=\"sk-item\"><div class=\"sk-estimator sk-toggleable\"><input class=\"sk-toggleable__control sk-hidden--visually\" id=\"sk-estimator-id-5\" type=\"checkbox\" ><label for=\"sk-estimator-id-5\" class=\"sk-toggleable__label sk-toggleable__label-arrow\">SimpleImputer</label><div class=\"sk-toggleable__content\"><pre>SimpleImputer(strategy=&#x27;most_frequent&#x27;)</pre></div></div></div><div class=\"sk-item sk-dashed-wrapped\"><div class=\"sk-label-container\"><div class=\"sk-label sk-toggleable\"><input class=\"sk-toggleable__control sk-hidden--visually\" id=\"sk-estimator-id-6\" type=\"checkbox\" ><label for=\"sk-estimator-id-6\" class=\"sk-toggleable__label sk-toggleable__label-arrow\">columntransformer: ColumnTransformer</label><div class=\"sk-toggleable__content\"><pre>ColumnTransformer(transformers=[(&#x27;cat_onehot&#x27;,\n",
       "                                 OneHotEncoder(drop=&#x27;first&#x27;,\n",
       "                                               handle_unknown=&#x27;ignore&#x27;,\n",
       "                                               sparse_output=False),\n",
       "                                 [&#x27;cp&#x27;])])</pre></div></div></div><div class=\"sk-parallel\"><div class=\"sk-parallel-item\"><div class=\"sk-item\"><div class=\"sk-label-container\"><div class=\"sk-label sk-toggleable\"><input class=\"sk-toggleable__control sk-hidden--visually\" id=\"sk-estimator-id-7\" type=\"checkbox\" ><label for=\"sk-estimator-id-7\" class=\"sk-toggleable__label sk-toggleable__label-arrow\">cat_onehot</label><div class=\"sk-toggleable__content\"><pre>[&#x27;cp&#x27;]</pre></div></div></div><div class=\"sk-serial\"><div class=\"sk-item\"><div class=\"sk-estimator sk-toggleable\"><input class=\"sk-toggleable__control sk-hidden--visually\" id=\"sk-estimator-id-8\" type=\"checkbox\" ><label for=\"sk-estimator-id-8\" class=\"sk-toggleable__label sk-toggleable__label-arrow\">OneHotEncoder</label><div class=\"sk-toggleable__content\"><pre>OneHotEncoder(drop=&#x27;first&#x27;, handle_unknown=&#x27;ignore&#x27;, sparse_output=False)</pre></div></div></div></div></div></div></div></div></div></div></div></div></div></div></div></div></div>"
      ],
      "text/plain": [
       "ColumnTransformer(transformers=[('num_pipe',\n",
       "                                 Pipeline(steps=[('simpleimputer',\n",
       "                                                  SimpleImputer())]),\n",
       "                                 ['age', 'fbs', 'restecg', 'st_no_change',\n",
       "                                  'sex', 'slope', 'ca', 'oldpeak', 'trestbps',\n",
       "                                  'exang', 'thal', 'thalach', 'chol']),\n",
       "                                ('cat_pipe',\n",
       "                                 Pipeline(steps=[('simpleimputer',\n",
       "                                                  SimpleImputer(strategy='most_frequent')),\n",
       "                                                 ('columntransformer',\n",
       "                                                  ColumnTransformer(transformers=[('cat_onehot',\n",
       "                                                                                   OneHotEncoder(drop='first',\n",
       "                                                                                                 handle_unknown='ignore',\n",
       "                                                                                                 sparse_output=False),\n",
       "                                                                                   ['cp'])]))]),\n",
       "                                 ['cp'])])"
      ]
     },
     "execution_count": 15,
     "metadata": {},
     "output_type": "execute_result"
    }
   ],
   "source": [
    "preprocessor"
   ]
  },
  {
   "cell_type": "markdown",
   "metadata": {},
   "source": [
    "**Choices to try adjusting when testing the models**\n",
    "* do not remove as much data\n",
    "* use binary version of oldpeak\n",
    "* onehot encode features currently ordinally pre-encoded"
   ]
  }
 ],
 "metadata": {
  "kernelspec": {
   "display_name": "base",
   "language": "python",
   "name": "python3"
  },
  "language_info": {
   "codemirror_mode": {
    "name": "ipython",
    "version": 3
   },
   "file_extension": ".py",
   "mimetype": "text/x-python",
   "name": "python",
   "nbconvert_exporter": "python",
   "pygments_lexer": "ipython3",
   "version": "3.10.9"
  },
  "orig_nbformat": 4
 },
 "nbformat": 4,
 "nbformat_minor": 2
}
