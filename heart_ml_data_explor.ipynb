{
 "cells": [
  {
   "cell_type": "markdown",
   "metadata": {},
   "source": [
    "## Heart Disease ML Project Data Exploration"
   ]
  },
  {
   "cell_type": "markdown",
   "metadata": {},
   "source": [
    "### Imports"
   ]
  },
  {
   "cell_type": "code",
   "execution_count": 2,
   "metadata": {},
   "outputs": [],
   "source": [
    "import pandas as pd\n",
    "from ydata_profiling import ProfileReport"
   ]
  },
  {
   "cell_type": "code",
   "execution_count": 3,
   "metadata": {},
   "outputs": [],
   "source": [
    "import pandas as pd\n",
    "from ydata_profiling import ProfileReport\n",
    "feat_names = ['age', # (numerical)\n",
    "              'sex', # (binary)\n",
    "              'cp', # (categorical) [1-4] chest pain \n",
    "              'trestbps', # (numerical) resting blood pressure \n",
    "              'chol', # (numerical) serum cholestoral in mg/dl \n",
    "              'fbs', # (binary) fasting blood sugar > 120 mg/dl \n",
    "              'restecg', # (ordinal) [0-2] resting electrocardiographic results \n",
    "              'thalach', # (numerical) maximum heart rate acheived \n",
    "              'exang', # (binary) exercised induced angina \n",
    "              'oldpeak', # (numerical) ST depression induced by exercise relative to rest \n",
    "              'slope', # (ordinal) [1-3] slope of the peak exercise ST segment\n",
    "              'ca', # (numerical) number of major vessels colored by flourosopy\n",
    "              'thal', # (ordinal) [3,6,7] \"3 = normal; 6 = fixed defect; 7 = reversable defect\"\n",
    "              'num'] # (categorical) [0-4] diagnosis \n",
    "heart_df = pd.read_csv('cleveland_heart_data', names = feat_names)"
   ]
  },
  {
   "cell_type": "code",
   "execution_count": 5,
   "metadata": {},
   "outputs": [
    {
     "data": {
      "application/vnd.jupyter.widget-view+json": {
       "model_id": "2be06d5df4c84aa1adb719d093fc3321",
       "version_major": 2,
       "version_minor": 0
      },
      "text/plain": [
       "Summarize dataset:   0%|          | 0/5 [00:00<?, ?it/s]"
      ]
     },
     "metadata": {},
     "output_type": "display_data"
    },
    {
     "data": {
      "application/vnd.jupyter.widget-view+json": {
       "model_id": "51a513684d5f48a5bc9f9891a6b0f582",
       "version_major": 2,
       "version_minor": 0
      },
      "text/plain": [
       "Generate report structure:   0%|          | 0/1 [00:00<?, ?it/s]"
      ]
     },
     "metadata": {},
     "output_type": "display_data"
    },
    {
     "data": {
      "application/vnd.jupyter.widget-view+json": {
       "model_id": "5166a777249b4680b2a287f73cb87351",
       "version_major": 2,
       "version_minor": 0
      },
      "text/plain": [
       "Render HTML:   0%|          | 0/1 [00:00<?, ?it/s]"
      ]
     },
     "metadata": {},
     "output_type": "display_data"
    },
    {
     "data": {
      "application/vnd.jupyter.widget-view+json": {
       "model_id": "36840a4a16064c0094770a05f3df6409",
       "version_major": 2,
       "version_minor": 0
      },
      "text/plain": [
       "Export report to file:   0%|          | 0/1 [00:00<?, ?it/s]"
      ]
     },
     "metadata": {},
     "output_type": "display_data"
    }
   ],
   "source": [
    "heart_profile = ProfileReport(heart_df)\n",
    "heart_profile.to_file('heart_report.html')"
   ]
  },
  {
   "cell_type": "markdown",
   "metadata": {},
   "source": [
    "### Insights from Report\n",
    "* no NAs\n",
    "* no particularly strong correlations\n",
    "    * strongest correlation cp-exang (0.46)\n",
    "    * second highest is oldpeak-slope (0.44)\n",
    "* age peaks around 43 and again around 58\n",
    "* 68% male\n",
    "* only 4 observations with 1 for restecg (options are 0-2)\n",
    "* thalach somewhat skewed (-0.54)\n",
    "* lots of zeros for oldpeak (ie. no change)\n",
    "* ca has \"?\" as a value for 4 obervations\n",
    "* thal has \"?\" as a value for 2 obervations\n"
   ]
  },
  {
   "cell_type": "markdown",
   "metadata": {},
   "source": [
    "### Data Cleaning and Feature Engineering Takeaways\n",
    "\n",
    "* drop...\n",
    "    * 4 observations with 1 for restecg to prevent overfitting future data\n",
    "    * 4 observations that have ? for ca\n",
    "    * 2 observations that have ? for thal\n",
    "* consider adding binary version of oldpeak with change vs no change"
   ]
  },
  {
   "cell_type": "code",
   "execution_count": 9,
   "metadata": {},
   "outputs": [
    {
     "name": "stdout",
     "output_type": "stream",
     "text": [
      "dropped 3.3% of data\n"
     ]
    }
   ],
   "source": [
    "cleaned_df = heart_df.loc[heart_df['restecg'] != 1]\n",
    "cleaned_df = cleaned_df.loc[cleaned_df['ca'] != '?']\n",
    "cleaned_df = cleaned_df.loc[cleaned_df['thal'] != '?']\n",
    "print(f'dropped {round((heart_df.shape[0] - cleaned_df.shape[0])*100 / heart_df.shape[0],2)}% of data')"
   ]
  }
 ],
 "metadata": {
  "kernelspec": {
   "display_name": "base",
   "language": "python",
   "name": "python3"
  },
  "language_info": {
   "codemirror_mode": {
    "name": "ipython",
    "version": 3
   },
   "file_extension": ".py",
   "mimetype": "text/x-python",
   "name": "python",
   "nbconvert_exporter": "python",
   "pygments_lexer": "ipython3",
   "version": "3.10.9"
  },
  "orig_nbformat": 4
 },
 "nbformat": 4,
 "nbformat_minor": 2
}
